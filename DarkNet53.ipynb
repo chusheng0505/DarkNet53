{
 "cells": [
  {
   "cell_type": "code",
   "execution_count": null,
   "metadata": {},
   "outputs": [],
   "source": [
    "import tensorflow as tf\n",
    "from tensorflow import keras\n",
    "from tensorflow.keras import Model\n",
    "from tensorflow.keras.layers import *\n",
    "from tensorflow.keras.models import *\n",
    "from tensorflow.keras.activations import *\n",
    "from tensorflow.keras.regularizers import *\n",
    "from tensorflow.keras import Input\n",
    "\n",
    "from typing import Union , Tuple , Dict , List"
   ]
  },
  {
   "cell_type": "code",
   "execution_count": null,
   "metadata": {},
   "outputs": [],
   "source": []
  },
  {
   "cell_type": "code",
   "execution_count": null,
   "metadata": {},
   "outputs": [],
   "source": [
    "def conv2d_bn_activation(input_tensor: tf.float32,\n",
    "                         filters: int,\n",
    "                         kernel_size: int,\n",
    "                         strides: int = 2,\n",
    "                         padding: str = 'same') -> tf.float32:\n",
    "    x = Conv2D(filters=filters,\n",
    "               kernel_size=kernel_size,\n",
    "               strides=(strides, strides),\n",
    "               padding=padding)(input_tensor)\n",
    "    x = BatchNormalization()(x)\n",
    "    return LeakyReLU(alpha=0.1)(x)\n",
    "\n",
    "\n",
    "\n",
    "def residual_block(input_tensor: tf.float32,\n",
    "                   filters: int) -> tf.float32 :\n",
    "    x = conv2d_bn_activation(input_tensor=input_tensor,\n",
    "                             filters=filters,\n",
    "                             kernel_size=1,\n",
    "                             strides=1)\n",
    "    x = conv2d_bn_activation(input_tensor=x,\n",
    "                             filters=2 * filters,\n",
    "                             kernel_size=3,\n",
    "                             strides=1)\n",
    "    return Add()([input_tensor, x])\n",
    "\n",
    "\n",
    "def conv_residual(num_repeat: int,\n",
    "                  input_tensor: tf.float32,\n",
    "                  filters: int) -> tf.float32:\n",
    "    x = conv2d_bn_activation(input_tensor=input_tensor,\n",
    "                             filters=2*filters,\n",
    "                             kernel_size=1,\n",
    "                             strides=1)\n",
    "    for _ in range(num_repeat):\n",
    "        x = residual_block(input_tensor=x,\n",
    "                           filters=filters)\n",
    "    return x\n",
    "\n",
    " \n",
    "\n",
    "def DarkNet_53(height: int,\n",
    "               width: int,\n",
    "               color_channels: int,\n",
    "               num_classes: int) -> tf.float32:\n",
    "    input_shape = (height, width, color_channels)\n",
    "    inputs = Input(shape=input_shape)\n",
    "\n",
    "    x = conv2d_bn_activation(input_tensor=inputs,\n",
    "                             filters=32,\n",
    "                             kernel_size=3,\n",
    "                             strides=1)  # feature_maps = 32\n",
    "    x = conv2d_bn_activation(input_tensor=x,\n",
    "                             filters=64,\n",
    "                             kernel_size=3)  # feature_maps = 64\n",
    "    x = conv_residual(num_repeat=1,\n",
    "                      input_tensor=x,\n",
    "                      filters=32)  # feature_maps = 64\n",
    "    x = conv_residual(num_repeat=2,\n",
    "                      input_tensor=x,\n",
    "                      filters=128)  # feature_maps = 256\n",
    "    x = conv_residual(num_repeat=8,\n",
    "                      input_tensor=x,\n",
    "                      filters=128)  # feature_maps = 512\n",
    "    x = conv_residual(num_repeat=8,\n",
    "                      input_tensor=x,\n",
    "                      filters=256)  # feature_maps = 1024\n",
    "    x = conv_residual(num_repeat=4,\n",
    "                      input_tensor=x,\n",
    "                      filters=512)  # feature_maps = 1024\n",
    "    x = GlobalAveragePooling2D()(x)\n",
    "    outputs = Dense(num_classes, activation='softmax', name='output')(x)\n",
    "    return Model(inputs=inputs, outputs=outputs, name='Darknet53')"
   ]
  },
  {
   "cell_type": "code",
   "execution_count": null,
   "metadata": {},
   "outputs": [],
   "source": []
  },
  {
   "cell_type": "code",
   "execution_count": null,
   "metadata": {},
   "outputs": [],
   "source": []
  },
  {
   "cell_type": "code",
   "execution_count": null,
   "metadata": {},
   "outputs": [],
   "source": []
  },
  {
   "cell_type": "code",
   "execution_count": null,
   "metadata": {},
   "outputs": [],
   "source": []
  }
 ],
 "metadata": {
  "kernelspec": {
   "display_name": "Python 3",
   "language": "python",
   "name": "python3"
  },
  "language_info": {
   "codemirror_mode": {
    "name": "ipython",
    "version": 3
   },
   "file_extension": ".py",
   "mimetype": "text/x-python",
   "name": "python",
   "nbconvert_exporter": "python",
   "pygments_lexer": "ipython3",
   "version": "3.7.6"
  }
 },
 "nbformat": 4,
 "nbformat_minor": 4
}
